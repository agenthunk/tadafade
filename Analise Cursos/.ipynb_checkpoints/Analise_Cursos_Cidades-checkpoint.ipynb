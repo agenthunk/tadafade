{
 "cells": [
  {
   "cell_type": "code",
   "execution_count": 43,
   "metadata": {},
   "outputs": [],
   "source": [
    "import pandas as pd \n",
    "import numpy as np \n",
    "import seaborn as sea \n",
    "import matplotlib.pyplot as plt \n",
    "import random \n",
    "%matplotlib inline"
   ]
  },
  {
   "cell_type": "code",
   "execution_count": 44,
   "metadata": {},
   "outputs": [
    {
     "name": "stdout",
     "output_type": "stream",
     "text": [
      "A base de dados possui 512 linhas e 7 colunas\n"
     ]
    }
   ],
   "source": [
    "#leitura do arquivo csv\n",
    "dadosCurso = pd.read_csv('dataset/dados.csv', engine='python', encoding = 'utf8')\n",
    "print('A base de dados possui %s linhas e %s colunas' % (dadosCurso.shape[0], dadosCurso.shape[1]))\n",
    "#dadosCurso.head()"
   ]
  },
  {
   "cell_type": "code",
   "execution_count": 45,
   "metadata": {},
   "outputs": [
    {
     "data": {
      "text/html": [
       "<div>\n",
       "<style scoped>\n",
       "    .dataframe tbody tr th:only-of-type {\n",
       "        vertical-align: middle;\n",
       "    }\n",
       "\n",
       "    .dataframe tbody tr th {\n",
       "        vertical-align: top;\n",
       "    }\n",
       "\n",
       "    .dataframe thead th {\n",
       "        text-align: right;\n",
       "    }\n",
       "</style>\n",
       "<table border=\"1\" class=\"dataframe\">\n",
       "  <thead>\n",
       "    <tr style=\"text-align: right;\">\n",
       "      <th></th>\n",
       "      <th>Id</th>\n",
       "      <th>Cidade</th>\n",
       "      <th>Uf</th>\n",
       "      <th>Bairro</th>\n",
       "      <th>Curso</th>\n",
       "      <th>Sexo</th>\n",
       "      <th>Data_Nasc</th>\n",
       "    </tr>\n",
       "  </thead>\n",
       "  <tbody>\n",
       "    <tr>\n",
       "      <th>0</th>\n",
       "      <td>1</td>\n",
       "      <td>GOIANIA</td>\n",
       "      <td>GO</td>\n",
       "      <td>RESIDENCIAL ELDORADO</td>\n",
       "      <td>CIENCIAS CONTABEIS</td>\n",
       "      <td>Feminino</td>\n",
       "      <td>14/06/1978</td>\n",
       "    </tr>\n",
       "    <tr>\n",
       "      <th>1</th>\n",
       "      <td>2</td>\n",
       "      <td>GOIANIA</td>\n",
       "      <td>GO</td>\n",
       "      <td>ST. PROGRESSO</td>\n",
       "      <td>CIENCIAS CONTABEIS</td>\n",
       "      <td>Feminino</td>\n",
       "      <td>17/01/1993</td>\n",
       "    </tr>\n",
       "    <tr>\n",
       "      <th>2</th>\n",
       "      <td>3</td>\n",
       "      <td>GOIANIA</td>\n",
       "      <td>GO</td>\n",
       "      <td>RESIDENCIAL RECANTO DAS EMAS</td>\n",
       "      <td>CIENCIAS CONTABEIS</td>\n",
       "      <td>Feminino</td>\n",
       "      <td>14/05/1992</td>\n",
       "    </tr>\n",
       "    <tr>\n",
       "      <th>3</th>\n",
       "      <td>4</td>\n",
       "      <td>GOIANIA</td>\n",
       "      <td>GO</td>\n",
       "      <td>JARDIM ANA LUCIA</td>\n",
       "      <td>CIENCIAS CONTABEIS</td>\n",
       "      <td>Feminino</td>\n",
       "      <td>28/09/1993</td>\n",
       "    </tr>\n",
       "    <tr>\n",
       "      <th>4</th>\n",
       "      <td>5</td>\n",
       "      <td>APARECIDA DE GOIANIA</td>\n",
       "      <td>GO</td>\n",
       "      <td>GARAVELO</td>\n",
       "      <td>CIENCIAS CONTABEIS</td>\n",
       "      <td>Feminino</td>\n",
       "      <td>24/09/1994</td>\n",
       "    </tr>\n",
       "  </tbody>\n",
       "</table>\n",
       "</div>"
      ],
      "text/plain": [
       "   Id                Cidade  Uf                        Bairro  \\\n",
       "0   1               GOIANIA  GO          RESIDENCIAL ELDORADO   \n",
       "1   2               GOIANIA  GO                 ST. PROGRESSO   \n",
       "2   3               GOIANIA  GO  RESIDENCIAL RECANTO DAS EMAS   \n",
       "3   4               GOIANIA  GO              JARDIM ANA LUCIA   \n",
       "4   5  APARECIDA DE GOIANIA  GO                      GARAVELO   \n",
       "\n",
       "                Curso      Sexo   Data_Nasc  \n",
       "0  CIENCIAS CONTABEIS  Feminino  14/06/1978  \n",
       "1  CIENCIAS CONTABEIS  Feminino  17/01/1993  \n",
       "2  CIENCIAS CONTABEIS  Feminino  14/05/1992  \n",
       "3  CIENCIAS CONTABEIS  Feminino  28/09/1993  \n",
       "4  CIENCIAS CONTABEIS  Feminino  24/09/1994  "
      ]
     },
     "execution_count": 45,
     "metadata": {},
     "output_type": "execute_result"
    }
   ],
   "source": [
    "dadosCurso['Cidade'] = dadosCurso['Cidade'].replace(np.nan, 'INDETERMINADO', regex=True)\n",
    "dadosCurso['Uf'] = dadosCurso['Uf'].replace(np.nan, 'INDETERMINADO', regex=True)\n",
    "dadosCurso['Bairro'] = dadosCurso['Bairro'].replace(np.nan, 'INDETERMINADO', regex=True)\n",
    "dadosCurso['Curso'] = dadosCurso['Curso'].replace(np.nan, 'INDETERMINADO', regex=True)\n",
    "dadosCurso['Sexo'] = dadosCurso['Sexo'].replace(np.nan, 'INDETERMINADO', regex=True)\n",
    "dadosCurso['Data_Nasc'] = dadosCurso['Data_Nasc'].replace(np.nan, 'INDETERMINADO', regex=True)\n",
    "\n",
    "dadosCurso['Sexo'] = dadosCurso['Sexo'].replace(['M','F'],['Masculino','Feminino'])\n",
    "\n",
    "dadosCurso.head()"
   ]
  },
  {
   "cell_type": "code",
   "execution_count": 46,
   "metadata": {},
   "outputs": [
    {
     "name": "stdout",
     "output_type": "stream",
     "text": [
      "0 GOIANIA\n",
      "1 APARECIDA DE GOIANIA\n",
      "2 GOI�NIA\n",
      "3 APARECIDA DE GOI�NIA\n",
      "4 AP. DE GOIANIA\n",
      "5 ARAGOIANIA\n",
      "6 APARECIDA DE GOIANIA - GO\n",
      "7 A CONFERIR\n",
      "8 TRINDADE\n",
      "9 TROMBAS\n",
      "10 GOIAS\n",
      "11 GOINIA\n",
      "12 GOIANIRIA\n",
      "13 GOIANA\n",
      "14 GOIANIRA\n",
      "15 CUIABA\n",
      "16 INDETERMINADO\n",
      "17 AP. DE GOI�NIA\n",
      "18 AP.\n",
      "19 SENADOR CANEDO\n",
      "20 ELDORADO\n",
      "21 TRIDADE\n",
      "22 GOI�NIA \n",
      "23 AP DE GOI�NIA\n",
      "24 AP. DE GOINIA\n",
      "25 74494480\n",
      "26 GOIANIA \n",
      "27 APARECIDA DE GOIANIA \n",
      "28 Goi�nia \n",
      "29 GOI�NA\n"
     ]
    }
   ],
   "source": [
    "listaCidades = dadosCurso['Cidade'].unique().tolist()\n",
    "\n",
    "for index, item in enumerate(listaCidades):\n",
    "    print(index, item)"
   ]
  },
  {
   "cell_type": "code",
   "execution_count": 47,
   "metadata": {},
   "outputs": [
    {
     "name": "stdout",
     "output_type": "stream",
     "text": [
      "0 CIÊNCIAS CONTÁBEIS\n",
      "1 ADMINISTRAÇÃO\n",
      "2 GESTÃO DE RECURSOS HUMANOS\n",
      "3 PEDAGOGIA\n",
      "4 SISTEMAS DE INFORMACÃO\n"
     ]
    }
   ],
   "source": [
    "dadosCurso['Curso'] = dadosCurso['Curso'].replace(['GEST�O DE RECURSOS HUMANOS'],['GESTÃO DE RECURSOS HUMANOS'])\n",
    "dadosCurso['Curso'] = dadosCurso['Curso'].replace(['SISTEMAS DE INFORMACAO'],['SISTEMAS DE INFORMACÃO'])\n",
    "dadosCurso['Curso'] = dadosCurso['Curso'].replace(['ADMINISTRACAO'],['ADMINISTRAÇÃO'])\n",
    "dadosCurso['Curso'] = dadosCurso['Curso'].replace(['CIENCIAS CONTABEIS'],['CIÊNCIAS CONTÁBEIS'])\n",
    "\n",
    "listaCurso = dadosCurso['Curso'].unique().tolist()\n",
    "\n",
    "for index, item in enumerate(listaCurso):\n",
    "    print(index, item)"
   ]
  },
  {
   "cell_type": "code",
   "execution_count": 48,
   "metadata": {},
   "outputs": [
    {
     "name": "stdout",
     "output_type": "stream",
     "text": [
      "0 Goiânia\n",
      "1 Aparecida de Goiânia\n",
      "2 ARAGOIANIA\n",
      "3 A CONFERIR\n",
      "4 Trindade\n",
      "5 TROMBAS\n",
      "6 GOIAS\n",
      "7 Goianira\n",
      "8 CUIABA\n",
      "9 INDETERMINADO\n",
      "10 SENADOR CANEDO\n",
      "11 ELDORADO\n"
     ]
    }
   ],
   "source": [
    "dadosCurso['Cidade'] = dadosCurso['Cidade'].replace(['GOIANIRIA'],['Goianira'])\n",
    "dadosCurso['Cidade'] = dadosCurso['Cidade'].replace(['GOIANIRA'],['Goianira'])\n",
    "\n",
    "dadosCurso['Cidade'] = dadosCurso['Cidade'].replace(['TRINDADE'],['Trindade'])\n",
    "dadosCurso['Cidade'] = dadosCurso['Cidade'].replace(['TRIDADE'],['Trindade'])\n",
    "\n",
    "dadosCurso['Cidade'] = dadosCurso['Cidade'].replace(['APARECIDA DE GOIANIA'],['Aparecida de Goiânia'])\n",
    "dadosCurso['Cidade'] = dadosCurso['Cidade'].replace(['APARECIDA DE GOI�NIA'],['Aparecida de Goiânia'])\n",
    "dadosCurso['Cidade'] = dadosCurso['Cidade'].replace(['AP. DE GOIANIA'],['Aparecida de Goiânia'])\n",
    "dadosCurso['Cidade'] = dadosCurso['Cidade'].replace(['APARECIDA DE GOIANIA - GO'],['Aparecida de Goiânia'])\n",
    "dadosCurso['Cidade'] = dadosCurso['Cidade'].replace(['AP. DE GOI�NIA'],['Aparecida de Goiânia'])\n",
    "dadosCurso['Cidade'] = dadosCurso['Cidade'].replace(['AP.'],['Aparecida de Goiânia'])\n",
    "dadosCurso['Cidade'] = dadosCurso['Cidade'].replace(['AP DE GOI�NIA'],['Aparecida de Goiânia'])\n",
    "dadosCurso['Cidade'] = dadosCurso['Cidade'].replace(['AP. DE GOINIA'],['Aparecida de Goiânia'])\n",
    "dadosCurso['Cidade'] = dadosCurso['Cidade'].replace(['APARECIDA DE GOIANIA '],['Aparecida de Goiânia'])\n",
    "\n",
    "dadosCurso['Cidade'] = dadosCurso['Cidade'].replace(['GOIANIA'],['Goiânia'])\n",
    "dadosCurso['Cidade'] = dadosCurso['Cidade'].replace(['GOI�NIA'],['Goiânia'])\n",
    "dadosCurso['Cidade'] = dadosCurso['Cidade'].replace(['GOINIA'],['Goiânia'])\n",
    "dadosCurso['Cidade'] = dadosCurso['Cidade'].replace(['GOIANA'],['Goiânia'])\n",
    "dadosCurso['Cidade'] = dadosCurso['Cidade'].replace(['GOI�NIA '],['Goiânia'])\n",
    "dadosCurso['Cidade'] = dadosCurso['Cidade'].replace(['GOIANIA '],['Goiânia'])\n",
    "dadosCurso['Cidade'] = dadosCurso['Cidade'].replace(['Goi�nia '],['Goiânia'])\n",
    "dadosCurso['Cidade'] = dadosCurso['Cidade'].replace(['GOI�NA'],['Goiânia'])\n",
    "dadosCurso['Cidade'] = dadosCurso['Cidade'].replace(['74494480'],['Goiânia'])\n",
    "\n",
    "listaCidadesNova = dadosCurso['Cidade'].unique().tolist()\n",
    "\n",
    "for index, item in enumerate(listaCidadesNova):\n",
    "    print(index, item)"
   ]
  },
  {
   "cell_type": "markdown",
   "metadata": {},
   "source": [
    "### Cidades dos alunos do Curso de Pedagogia"
   ]
  },
  {
   "cell_type": "code",
   "execution_count": 53,
   "metadata": {},
   "outputs": [
    {
     "data": {
      "image/png": "[encoded data removed]",
      "text/plain": [
       "<Figure size 432x288 with 1 Axes>"
      ]
     },
     "metadata": {},
     "output_type": "display_data"
    }
   ],
   "source": [
    "gynPed = (dadosCurso['Cidade'] == 'Goiânia') & (dadosCurso['Curso'] == 'PEDAGOGIA')\n",
    "apGynPed = (dadosCurso['Cidade'] == 'Aparecida de Goiânia') & (dadosCurso['Curso'] == 'PEDAGOGIA')\n",
    "araPed = (dadosCurso['Cidade'] == 'ARAGOIANIA') & (dadosCurso['Curso'] == 'PEDAGOGIA')\n",
    "confPed = (dadosCurso['Cidade'] == 'A CONFERIR') & (dadosCurso['Curso'] == 'PEDAGOGIA')\n",
    "trinPed = (dadosCurso['Cidade'] == 'Trindade') & (dadosCurso['Curso'] == 'PEDAGOGIA')\n",
    "troPed = (dadosCurso['Cidade'] == 'TROMBAS') & (dadosCurso['Curso'] == 'PEDAGOGIA')\n",
    "goPed = (dadosCurso['Cidade'] == 'GOIAS') & (dadosCurso['Curso'] == 'PEDAGOGIA')\n",
    "goiaPed = (dadosCurso['Cidade'] == 'Goianira') & (dadosCurso['Curso'] == 'PEDAGOGIA')\n",
    "cuiPed = (dadosCurso['Cidade'] == 'CUIABA') & (dadosCurso['Curso'] == 'PEDAGOGIA')\n",
    "indePed = (dadosCurso['Cidade'] == 'INDETERMINADO') & (dadosCurso['Curso'] == 'PEDAGOGIA')\n",
    "senPed = (dadosCurso['Cidade'] == 'SENADOR CANEDO') & (dadosCurso['Curso'] == 'PEDAGOGIA')\n",
    "eldPed = (dadosCurso['Cidade'] == 'ELDORADO') & (dadosCurso['Curso'] == 'PEDAGOGIA')\n",
    "\n",
    "gynPed = dadosCurso[gynPed]\n",
    "apGynPed = dadosCurso[apGynPed]\n",
    "araPed = dadosCurso[araPed]\n",
    "confPed = dadosCurso[confPed]\n",
    "trinPed = dadosCurso[trinPed]\n",
    "troPed = dadosCurso[troPed]\n",
    "goPed = dadosCurso[goPed]\n",
    "goiaPed = dadosCurso[goiaPed]\n",
    "cuiPed = dadosCurso[cuiPed]\n",
    "indePed = dadosCurso[indePed]\n",
    "senPed = dadosCurso[senPed]\n",
    "eldPed = dadosCurso[eldPed]\n",
    "\n",
    "#print('Alunos de moram em Goiânia: %s, Alunos que moram em Ap. de Gyn: %s ' % (gynPed.shape[0], apGoiania.shape[0]))\n",
    "\n",
    "labels = ['Goiânia', 'Ap. Gyn', 'Aragoiania', 'Conferir', 'Trindade', 'Trombas', 'Goiás', 'Goianira', 'Cuiaba',\n",
    "         'Indeterminado', 'Senador Canedo', 'Eldorado']\n",
    "quantidade = [gynPed.shape[0], apGynPed.shape[0], araPed.shape[0], confPed.shape[0], trinPed.shape[0],\n",
    "             troPed.shape[0], goPed.shape[0], goiaPed.shape[0], cuiPed.shape[0], indePed.shape[0],\n",
    "             senPed.shape[0], eldPed.shape[0]]\n",
    "explode = (5, 5, 5, 5, 5, 5, 5, 5, 5, 5, 5, 5)\n",
    "total = sum(quantidade)\n",
    "plt.pie(quantidade, explode=explode, labels=labels,radius=5800, autopct='%1.1f%%', shadow=True, startangle=900)\n",
    "\n",
    "plt.axis('equal') \n",
    "plt.show()"
   ]
  },
  {
   "cell_type": "markdown",
   "metadata": {},
   "source": [
    "### Cidades do Curso de Administração"
   ]
  },
  {
   "cell_type": "code",
   "execution_count": 54,
   "metadata": {},
   "outputs": [
    {
     "data": {
      "image/png": "[encoded data removed]",
      "text/plain": [
       "<Figure size 432x288 with 1 Axes>"
      ]
     },
     "metadata": {},
     "output_type": "display_data"
    }
   ],
   "source": [
    "gynAdm = (dadosCurso['Cidade'] == 'Goiânia') & (dadosCurso['Curso'] == 'ADMINISTRAÇÃO')\n",
    "apGynAdm = (dadosCurso['Cidade'] == 'Aparecida de Goiânia') & (dadosCurso['Curso'] == 'ADMINISTRAÇÃO')\n",
    "araAdm = (dadosCurso['Cidade'] == 'ARAGOIANIA') & (dadosCurso['Curso'] == 'ADMINISTRAÇÃO')\n",
    "confAdm = (dadosCurso['Cidade'] == 'A CONFERIR') & (dadosCurso['Curso'] == 'ADMINISTRAÇÃO')\n",
    "trinAdm = (dadosCurso['Cidade'] == 'Trindade') & (dadosCurso['Curso'] == 'ADMINISTRAÇÃO')\n",
    "troAdm = (dadosCurso['Cidade'] == 'TROMBAS') & (dadosCurso['Curso'] == 'ADMINISTRAÇÃO')\n",
    "goAdm = (dadosCurso['Cidade'] == 'GOIAS') & (dadosCurso['Curso'] == 'ADMINISTRAÇÃO')\n",
    "goiaAdm = (dadosCurso['Cidade'] == 'Goianira') & (dadosCurso['Curso'] == 'ADMINISTRAÇÃO')\n",
    "cuiAdm = (dadosCurso['Cidade'] == 'CUIABA') & (dadosCurso['Curso'] == 'ADMINISTRAÇÃO')\n",
    "indeAdm = (dadosCurso['Cidade'] == 'INDETERMINADO') & (dadosCurso['Curso'] == 'ADMINISTRAÇÃO')\n",
    "senAdm = (dadosCurso['Cidade'] == 'SENADOR CANEDO') & (dadosCurso['Curso'] == 'ADMINISTRAÇÃO')\n",
    "eldAdm = (dadosCurso['Cidade'] == 'ELDORADO') & (dadosCurso['Curso'] == 'ADMINISTRAÇÃO')\n",
    "\n",
    "gynAdm = dadosCurso[gynAdm]\n",
    "apGynAdm = dadosCurso[apGynAdm]\n",
    "araAdm = dadosCurso[araAdm]\n",
    "confAdm = dadosCurso[confAdm]\n",
    "trinAdm = dadosCurso[trinAdm]\n",
    "troAdm = dadosCurso[troAdm]\n",
    "goAdm = dadosCurso[goAdm]\n",
    "goiaAdm = dadosCurso[goiaAdm]\n",
    "cuiAdm = dadosCurso[cuiAdm]\n",
    "indeAdm = dadosCurso[indeAdm]\n",
    "senAdm = dadosCurso[senAdm]\n",
    "eldAdm = dadosCurso[eldAdm]\n",
    "\n",
    "#print('Alunos de moram em Goiânia: %s, Alunos que moram em Ap. de Gyn: %s ' % (gynPed.shape[0], apGoiania.shape[0]))\n",
    "\n",
    "labels = ['Goiânia', 'Ap. Gyn', 'Aragoiania', 'Conferir', 'Trindade', 'Trombas', 'Goiás', 'Goianira', 'Cuiaba',\n",
    "         'Indeterminado', 'Senador Canedo', 'Eldorado']\n",
    "quantidade = [gynAdm.shape[0], apGynAdm.shape[0], araAdm.shape[0], confAdm.shape[0], trinAdm.shape[0],\n",
    "             troAdm.shape[0], goAdm.shape[0], goiaPed.shape[0], cuiAdm.shape[0], indeAdm.shape[0],\n",
    "             senAdm.shape[0], eldAdm.shape[0]]\n",
    "explode = (5, 5, 5, 5, 5, 5, 5, 5, 5, 5, 5, 5)\n",
    "total = sum(quantidade)\n",
    "plt.pie(quantidade, explode=explode, labels=labels,radius=5800, autopct='%1.1f%%', shadow=True, startangle=900)\n",
    "\n",
    "plt.axis('equal') \n",
    "plt.show()"
   ]
  },
  {
   "cell_type": "markdown",
   "metadata": {},
   "source": [
    "### Cidades do Curso de CIÊNCIAS CONTÁBEIS"
   ]
  },
  {
   "cell_type": "code",
   "execution_count": 55,
   "metadata": {},
   "outputs": [
    {
     "data": {
      "image/png": "[encoded data removed]",
      "text/plain": [
       "<Figure size 432x288 with 1 Axes>"
      ]
     },
     "metadata": {},
     "output_type": "display_data"
    }
   ],
   "source": [
    "gynCc = (dadosCurso['Cidade'] == 'Goiânia') & (dadosCurso['Curso'] == 'CIÊNCIAS CONTÁBEIS')\n",
    "apGynCc = (dadosCurso['Cidade'] == 'Aparecida de Goiânia') & (dadosCurso['Curso'] == 'CIÊNCIAS CONTÁBEIS')\n",
    "araCc = (dadosCurso['Cidade'] == 'ARAGOIANIA') & (dadosCurso['Curso'] == 'CIÊNCIAS CONTÁBEIS')\n",
    "confCc = (dadosCurso['Cidade'] == 'A CONFERIR') & (dadosCurso['Curso'] == 'CIÊNCIAS CONTÁBEIS')\n",
    "trinCc = (dadosCurso['Cidade'] == 'Trindade') & (dadosCurso['Curso'] == 'CIÊNCIAS CONTÁBEIS')\n",
    "troCc = (dadosCurso['Cidade'] == 'TROMBAS') & (dadosCurso['Curso'] == 'CIÊNCIAS CONTÁBEIS')\n",
    "goCc = (dadosCurso['Cidade'] == 'GOIAS') & (dadosCurso['Curso'] == 'CIÊNCIAS CONTÁBEIS')\n",
    "goiaCc = (dadosCurso['Cidade'] == 'Goianira') & (dadosCurso['Curso'] == 'CIÊNCIAS CONTÁBEIS')\n",
    "cuiCc = (dadosCurso['Cidade'] == 'CUIABA') & (dadosCurso['Curso'] == 'CIÊNCIAS CONTÁBEIS')\n",
    "indeCc = (dadosCurso['Cidade'] == 'INDETERMINADO') & (dadosCurso['Curso'] == 'CIÊNCIAS CONTÁBEIS')\n",
    "senCc = (dadosCurso['Cidade'] == 'SENADOR CANEDO') & (dadosCurso['Curso'] == 'CIÊNCIAS CONTÁBEIS')\n",
    "eldCc = (dadosCurso['Cidade'] == 'ELDORADO') & (dadosCurso['Curso'] == 'CIÊNCIAS CONTÁBEIS')\n",
    "\n",
    "gynCc = dadosCurso[gynCc]\n",
    "apGynCc = dadosCurso[apGynCc]\n",
    "araCc = dadosCurso[araCc]\n",
    "confCc = dadosCurso[confCc]\n",
    "trinCc = dadosCurso[trinCc]\n",
    "troCc = dadosCurso[troCc]\n",
    "goCc = dadosCurso[goCc]\n",
    "goiaCc = dadosCurso[goiaCc]\n",
    "cuiCc = dadosCurso[cuiCc]\n",
    "indeCc = dadosCurso[indeCc]\n",
    "senCc = dadosCurso[senCc]\n",
    "eldCc = dadosCurso[eldCc]\n",
    "\n",
    "#print('Alunos de moram em Goiânia: %s, Alunos que moram em Ap. de Gyn: %s ' % (gynPed.shape[0], apGoiania.shape[0]))\n",
    "\n",
    "labels = ['Goiânia', 'Ap. Gyn', 'Aragoiania', 'Conferir', 'Trindade', 'Trombas', 'Goiás', 'Goianira', 'Cuiaba',\n",
    "         'Indeterminado', 'Senador Canedo', 'Eldorado']\n",
    "quantidade = [gynCc.shape[0], apGynCc.shape[0], araCc.shape[0], confCc.shape[0], trinCc.shape[0],\n",
    "             troCc.shape[0], goCc.shape[0], goiaCc.shape[0], cuiCc.shape[0], indeCc.shape[0],\n",
    "             senCc.shape[0], eldCc.shape[0]]\n",
    "explode = (5, 5, 5, 5, 5, 5, 5, 5, 5, 5, 5, 5)\n",
    "total = sum(quantidade)\n",
    "plt.pie(quantidade, explode=explode, labels=labels,radius=5800, autopct='%1.1f%%', shadow=True, startangle=900)\n",
    "\n",
    "plt.axis('equal') \n",
    "plt.show()"
   ]
  },
  {
   "cell_type": "code",
   "execution_count": null,
   "metadata": {},
   "outputs": [],
   "source": [
    "0 \n",
    "1 \n",
    "2 GESTÃO DE RECURSOS HUMANOS\n",
    "3 PEDAGOGIA\n",
    "4 SISTEMAS DE INFORMACÃO\n"
   ]
  }
 ],
 "metadata": {
  "kernelspec": {
   "display_name": "Python 3",
   "language": "python",
   "name": "python3"
  },
  "language_info": {
   "codemirror_mode": {
    "name": "ipython",
    "version": 3
   },
   "file_extension": ".py",
   "mimetype": "text/x-python",
   "name": "python",
   "nbconvert_exporter": "python",
   "pygments_lexer": "ipython3",
   "version": "3.5.2"
  }
 },
 "nbformat": 4,
 "nbformat_minor": 2
}
