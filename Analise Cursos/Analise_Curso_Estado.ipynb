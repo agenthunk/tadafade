{
 "cells": [
  {
   "cell_type": "code",
   "execution_count": 3,
   "metadata": {},
   "outputs": [],
   "source": [
    "import pandas as pd \n",
    "import numpy as np \n",
    "import seaborn as sea \n",
    "import matplotlib.pyplot as plt \n",
    "import random \n",
    "%matplotlib inline"
   ]
  },
  {
   "cell_type": "code",
   "execution_count": 56,
   "metadata": {},
   "outputs": [
    {
     "name": "stdout",
     "output_type": "stream",
     "text": [
      "A base de dados possui 512 linhas e 7 colunas\n"
     ]
    }
   ],
   "source": [
    "#leitura do arquivo csv\n",
    "dadosCurso = pd.read_csv('dataset/dados.csv', engine='python', encoding = 'utf8')\n",
    "print('A base de dados possui %s linhas e %s colunas' % (dadosCurso.shape[0], dadosCurso.shape[1]))\n",
    "#dadosCurso.head()"
   ]
  },
  {
   "cell_type": "code",
   "execution_count": 47,
   "metadata": {},
   "outputs": [
    {
     "data": {
      "text/html": [
       "<div>\n",
       "<style scoped>\n",
       "    .dataframe tbody tr th:only-of-type {\n",
       "        vertical-align: middle;\n",
       "    }\n",
       "\n",
       "    .dataframe tbody tr th {\n",
       "        vertical-align: top;\n",
       "    }\n",
       "\n",
       "    .dataframe thead th {\n",
       "        text-align: right;\n",
       "    }\n",
       "</style>\n",
       "<table border=\"1\" class=\"dataframe\">\n",
       "  <thead>\n",
       "    <tr style=\"text-align: right;\">\n",
       "      <th></th>\n",
       "      <th>Id</th>\n",
       "      <th>Cidade</th>\n",
       "      <th>Uf</th>\n",
       "      <th>Bairro</th>\n",
       "      <th>Curso</th>\n",
       "      <th>Sexo</th>\n",
       "      <th>Data_Nasc</th>\n",
       "    </tr>\n",
       "  </thead>\n",
       "  <tbody>\n",
       "    <tr>\n",
       "      <th>0</th>\n",
       "      <td>1</td>\n",
       "      <td>GOIANIA</td>\n",
       "      <td>GO</td>\n",
       "      <td>RESIDENCIAL ELDORADO</td>\n",
       "      <td>CIÊNCIAS CONTÁBEIS</td>\n",
       "      <td>Feminino</td>\n",
       "      <td>14/06/1978</td>\n",
       "    </tr>\n",
       "    <tr>\n",
       "      <th>1</th>\n",
       "      <td>2</td>\n",
       "      <td>GOIANIA</td>\n",
       "      <td>GO</td>\n",
       "      <td>ST. PROGRESSO</td>\n",
       "      <td>CIÊNCIAS CONTÁBEIS</td>\n",
       "      <td>Feminino</td>\n",
       "      <td>17/01/1993</td>\n",
       "    </tr>\n",
       "    <tr>\n",
       "      <th>2</th>\n",
       "      <td>3</td>\n",
       "      <td>GOIANIA</td>\n",
       "      <td>GO</td>\n",
       "      <td>RESIDENCIAL RECANTO DAS EMAS</td>\n",
       "      <td>CIÊNCIAS CONTÁBEIS</td>\n",
       "      <td>Feminino</td>\n",
       "      <td>14/05/1992</td>\n",
       "    </tr>\n",
       "    <tr>\n",
       "      <th>3</th>\n",
       "      <td>4</td>\n",
       "      <td>GOIANIA</td>\n",
       "      <td>GO</td>\n",
       "      <td>JARDIM ANA LUCIA</td>\n",
       "      <td>CIÊNCIAS CONTÁBEIS</td>\n",
       "      <td>Feminino</td>\n",
       "      <td>28/09/1993</td>\n",
       "    </tr>\n",
       "    <tr>\n",
       "      <th>4</th>\n",
       "      <td>5</td>\n",
       "      <td>APARECIDA DE GOIANIA</td>\n",
       "      <td>GO</td>\n",
       "      <td>GARAVELO</td>\n",
       "      <td>CIÊNCIAS CONTÁBEIS</td>\n",
       "      <td>Feminino</td>\n",
       "      <td>24/09/1994</td>\n",
       "    </tr>\n",
       "  </tbody>\n",
       "</table>\n",
       "</div>"
      ],
      "text/plain": [
       "   Id                Cidade  Uf                        Bairro  \\\n",
       "0   1               GOIANIA  GO          RESIDENCIAL ELDORADO   \n",
       "1   2               GOIANIA  GO                 ST. PROGRESSO   \n",
       "2   3               GOIANIA  GO  RESIDENCIAL RECANTO DAS EMAS   \n",
       "3   4               GOIANIA  GO              JARDIM ANA LUCIA   \n",
       "4   5  APARECIDA DE GOIANIA  GO                      GARAVELO   \n",
       "\n",
       "                Curso      Sexo   Data_Nasc  \n",
       "0  CIÊNCIAS CONTÁBEIS  Feminino  14/06/1978  \n",
       "1  CIÊNCIAS CONTÁBEIS  Feminino  17/01/1993  \n",
       "2  CIÊNCIAS CONTÁBEIS  Feminino  14/05/1992  \n",
       "3  CIÊNCIAS CONTÁBEIS  Feminino  28/09/1993  \n",
       "4  CIÊNCIAS CONTÁBEIS  Feminino  24/09/1994  "
      ]
     },
     "execution_count": 47,
     "metadata": {},
     "output_type": "execute_result"
    }
   ],
   "source": [
    "dadosCurso['Cidade'] = dadosCurso['Cidade'].replace(np.nan, 'INDETERMINADO', regex=True)\n",
    "dadosCurso['Uf'] = dadosCurso['Uf'].replace(np.nan, 'INDETERMINADO', regex=True)\n",
    "dadosCurso['Bairro'] = dadosCurso['Bairro'].replace(np.nan, 'INDETERMINADO', regex=True)\n",
    "dadosCurso['Curso'] = dadosCurso['Curso'].replace(np.nan, 'INDETERMINADO', regex=True)\n",
    "dadosCurso['Sexo'] = dadosCurso['Sexo'].replace(np.nan, 'INDETERMINADO', regex=True)\n",
    "dadosCurso['Data_Nasc'] = dadosCurso['Data_Nasc'].replace(np.nan, 'INDETERMINADO', regex=True)\n",
    "\n",
    "dadosCurso['Sexo'] = dadosCurso['Sexo'].replace(['M','F'],['Masculino','Feminino'])\n",
    "\n",
    "dadosCurso.head()"
   ]
  },
  {
   "cell_type": "code",
   "execution_count": 48,
   "metadata": {},
   "outputs": [
    {
     "name": "stdout",
     "output_type": "stream",
     "text": [
      "0 GOIANIA\n",
      "1 APARECIDA DE GOIANIA\n",
      "2 GOI�NIA\n",
      "3 APARECIDA DE GOI�NIA\n",
      "4 AP. DE GOIANIA\n",
      "5 ARAGOIANIA\n",
      "6 APARECIDA DE GOIANIA - GO\n",
      "7 A CONFERIR\n",
      "8 TRINDADE\n",
      "9 TROMBAS\n",
      "10 GOIAS\n",
      "11 GOINIA\n",
      "12 GOIANIRIA\n",
      "13 GOIANA\n",
      "14 GOIANIRA\n",
      "15 CUIABA\n",
      "16 INDETERMINADO\n",
      "17 AP. DE GOI�NIA\n",
      "18 AP.\n",
      "19 SENADOR CANEDO\n",
      "20 ELDORADO\n",
      "21 TRIDADE\n",
      "22 GOI�NIA \n",
      "23 AP DE GOI�NIA\n",
      "24 AP. DE GOINIA\n",
      "25 74494480\n",
      "26 GOIANIA \n",
      "27 APARECIDA DE GOIANIA \n",
      "28 Goi�nia \n",
      "29 GOI�NA\n"
     ]
    }
   ],
   "source": [
    "listaCidades = dadosCurso['Cidade'].unique().tolist()\n",
    "\n",
    "for index, item in enumerate(listaCidades):\n",
    "    print(index, item)"
   ]
  },
  {
   "cell_type": "code",
   "execution_count": 49,
   "metadata": {},
   "outputs": [
    {
     "name": "stdout",
     "output_type": "stream",
     "text": [
      "0 CIÊNCIAS CONTÁBEIS\n",
      "1 ADMINISTRAÇÃO\n",
      "2 GESTÃO DE RECURSOS HUMANOS\n",
      "3 PEDAGOGIA\n",
      "4 SISTEMAS DE INFORMACÃO\n"
     ]
    }
   ],
   "source": [
    "dadosCurso['Curso'] = dadosCurso['Curso'].replace(['GEST�O DE RECURSOS HUMANOS'],['GESTÃO DE RECURSOS HUMANOS'])\n",
    "dadosCurso['Curso'] = dadosCurso['Curso'].replace(['SISTEMAS DE INFORMACAO'],['SISTEMAS DE INFORMACÃO'])\n",
    "dadosCurso['Curso'] = dadosCurso['Curso'].replace(['ADMINISTRACAO'],['ADMINISTRAÇÃO'])\n",
    "dadosCurso['Curso'] = dadosCurso['Curso'].replace(['CIENCIAS CONTABEIS'],['CIÊNCIAS CONTÁBEIS'])\n",
    "\n",
    "listaCurso = dadosCurso['Curso'].unique().tolist()\n",
    "\n",
    "for index, item in enumerate(listaCurso):\n",
    "    print(index, item)"
   ]
  },
  {
   "cell_type": "code",
   "execution_count": 50,
   "metadata": {},
   "outputs": [
    {
     "name": "stdout",
     "output_type": "stream",
     "text": [
      "0 GO\n",
      "1 AC\n",
      "2 AP\n",
      "3 MT\n"
     ]
    }
   ],
   "source": [
    "listaEstados = dadosCurso['Uf'].unique().tolist()\n",
    "\n",
    "for index, item in enumerate(listaEstados):\n",
    "    print(index, item)\n",
    "listaEstadoNova = dadosCurso['Uf'].unique().tolist()"
   ]
  },
  {
   "cell_type": "markdown",
   "metadata": {},
   "source": [
    "### Gráfico de Ciências Contábeis"
   ]
  },
  {
   "cell_type": "code",
   "execution_count": 51,
   "metadata": {},
   "outputs": [
    {
     "name": "stdout",
     "output_type": "stream",
     "text": [
      "Quantidade de alunos nos estados: AC = 5, AP = 0, GO = 144, MT = 0 .\n"
     ]
    },
    {
     "data": {
      "image/png": "[encoded data removed]",
      "text/plain": [
       "<Figure size 432x288 with 1 Axes>"
      ]
     },
     "metadata": {},
     "output_type": "display_data"
    }
   ],
   "source": [
    "ac = (dadosCurso['Uf'] == 'AC') & (dadosCurso['Curso'] == 'CIÊNCIAS CONTÁBEIS')\n",
    "ac = dadosCurso[ac]\n",
    "ap = (dadosCurso['Uf'] == 'AP') & (dadosCurso['Curso'] == 'CIÊNCIAS CONTÁBEIS')\n",
    "ap = dadosCurso[ap]\n",
    "go = (dadosCurso['Uf'] == 'GO') & (dadosCurso['Curso'] == 'CIÊNCIAS CONTÁBEIS')\n",
    "go = dadosCurso[go]\n",
    "mt = (dadosCurso['Uf'] == 'MT') & (dadosCurso['Curso'] == 'CIÊNCIAS CONTÁBEIS')\n",
    "mt = dadosCurso[mt]\n",
    "\n",
    "print('Quantidade de alunos nos estados: AC = %s, AP = %s, GO = %s, MT = %s .' % \n",
    "      (ac.shape[0], ap.shape[0], go.shape[0], mt.shape[0]))\n",
    "\n",
    "labels = ['AC', 'AP', 'GO', 'MT']\n",
    "quantidade = [ac.shape[0], ac.shape[0], go.shape[0], mt.shape[0]]\n",
    "#cores = ['lightyellow', 'lightgreen', 'lightblue', 'lightblue']\n",
    "explode = (0, 0, 0, 0)\n",
    "total = sum(quantidade)\n",
    "plt.pie(quantidade, explode=explode, labels=labels, autopct='%1.1f%%', shadow=True, startangle=90)\n",
    "\n",
    "plt.axis('equal') \n",
    "plt.show()"
   ]
  },
  {
   "cell_type": "markdown",
   "metadata": {},
   "source": [
    "### Gráfico de Administração"
   ]
  },
  {
   "cell_type": "code",
   "execution_count": 52,
   "metadata": {},
   "outputs": [
    {
     "name": "stdout",
     "output_type": "stream",
     "text": [
      "Quantidade de alunos nos estados: AC = 8, AP = 3, GO = 104, MT = 0 .\n"
     ]
    },
    {
     "data": {
      "image/png": "[encoded data removed]",
      "text/plain": [
       "<Figure size 432x288 with 1 Axes>"
      ]
     },
     "metadata": {},
     "output_type": "display_data"
    }
   ],
   "source": [
    "ac = (dadosCurso['Uf'] == 'AC') & (dadosCurso['Curso'] == 'ADMINISTRAÇÃO')\n",
    "ac = dadosCurso[ac]\n",
    "ap = (dadosCurso['Uf'] == 'AP') & (dadosCurso['Curso'] == 'ADMINISTRAÇÃO')\n",
    "ap = dadosCurso[ap]\n",
    "go = (dadosCurso['Uf'] == 'GO') & (dadosCurso['Curso'] == 'ADMINISTRAÇÃO')\n",
    "go = dadosCurso[go]\n",
    "mt = (dadosCurso['Uf'] == 'MT') & (dadosCurso['Curso'] == 'ADMINISTRAÇÃO')\n",
    "mt = dadosCurso[mt]\n",
    "\n",
    "print('Quantidade de alunos nos estados: AC = %s, AP = %s, GO = %s, MT = %s .' % \n",
    "      (ac.shape[0], ap.shape[0], go.shape[0], mt.shape[0]))\n",
    "\n",
    "labels = ['AC', 'AP', 'GO', 'MT']\n",
    "quantidade = [ac.shape[0], ac.shape[0], go.shape[0], mt.shape[0]]\n",
    "explode = (0, 0, 0, 0)\n",
    "total = sum(quantidade)\n",
    "plt.pie(quantidade, explode=explode, labels=labels, autopct='%1.1f%%', shadow=True, startangle=90)\n",
    "\n",
    "plt.axis('equal') \n",
    "plt.show()"
   ]
  },
  {
   "cell_type": "markdown",
   "metadata": {},
   "source": [
    "### Grágico de Gestão de Recursos Humanos"
   ]
  },
  {
   "cell_type": "code",
   "execution_count": 53,
   "metadata": {},
   "outputs": [
    {
     "name": "stdout",
     "output_type": "stream",
     "text": [
      "Quantidade de alunos nos estados: AC = 1, AP = 1, GO = 30, MT = 1 .\n"
     ]
    },
    {
     "data": {
      "image/png": "[encoded data removed]",
      "text/plain": [
       "<Figure size 432x288 with 1 Axes>"
      ]
     },
     "metadata": {},
     "output_type": "display_data"
    }
   ],
   "source": [
    "ac = (dadosCurso['Uf'] == 'AC') & (dadosCurso['Curso'] == 'GESTÃO DE RECURSOS HUMANOS')\n",
    "ac = dadosCurso[ac]\n",
    "ap = (dadosCurso['Uf'] == 'AP') & (dadosCurso['Curso'] == 'GESTÃO DE RECURSOS HUMANOS')\n",
    "ap = dadosCurso[ap]\n",
    "go = (dadosCurso['Uf'] == 'GO') & (dadosCurso['Curso'] == 'GESTÃO DE RECURSOS HUMANOS')\n",
    "go = dadosCurso[go]\n",
    "mt = (dadosCurso['Uf'] == 'MT') & (dadosCurso['Curso'] == 'GESTÃO DE RECURSOS HUMANOS')\n",
    "mt = dadosCurso[mt]\n",
    "\n",
    "print('Quantidade de alunos nos estados: AC = %s, AP = %s, GO = %s, MT = %s .' % \n",
    "      (ac.shape[0], ap.shape[0], go.shape[0], mt.shape[0]))\n",
    "\n",
    "labels = ['AC', 'AP', 'GO', 'MT']\n",
    "quantidade = [ac.shape[0], ac.shape[0], go.shape[0], mt.shape[0]]\n",
    "#cores = ['lightyellow', 'lightgreen', 'lightblue', 'lightblue']\n",
    "explode = (0, 0, 0, 0)\n",
    "total = sum(quantidade)\n",
    "plt.pie(quantidade, explode=explode, labels=labels, autopct='%1.1f%%', shadow=True, startangle=90)\n",
    "\n",
    "plt.axis('equal') \n",
    "plt.show()"
   ]
  },
  {
   "cell_type": "markdown",
   "metadata": {},
   "source": [
    "### Gráfico de Pedagogia"
   ]
  },
  {
   "cell_type": "code",
   "execution_count": 54,
   "metadata": {},
   "outputs": [
    {
     "name": "stdout",
     "output_type": "stream",
     "text": [
      "Quantidade de alunos nos estados: AC = 2, AP = 0, GO = 108, MT = 0 .\n"
     ]
    },
    {
     "data": {
      "image/png": "[encoded data removed]",
      "text/plain": [
       "<Figure size 432x288 with 1 Axes>"
      ]
     },
     "metadata": {},
     "output_type": "display_data"
    }
   ],
   "source": [
    "ac = (dadosCurso['Uf'] == 'AC') & (dadosCurso['Curso'] == 'PEDAGOGIA')\n",
    "ac = dadosCurso[ac]\n",
    "ap = (dadosCurso['Uf'] == 'AP') & (dadosCurso['Curso'] == 'PEDAGOGIA')\n",
    "ap = dadosCurso[ap]\n",
    "go = (dadosCurso['Uf'] == 'GO') & (dadosCurso['Curso'] == 'PEDAGOGIA')\n",
    "go = dadosCurso[go]\n",
    "mt = (dadosCurso['Uf'] == 'MT') & (dadosCurso['Curso'] == 'PEDAGOGIA')\n",
    "mt = dadosCurso[mt]\n",
    "\n",
    "print('Quantidade de alunos nos estados: AC = %s, AP = %s, GO = %s, MT = %s .' % \n",
    "      (ac.shape[0], ap.shape[0], go.shape[0], mt.shape[0]))\n",
    "\n",
    "labels = ['AC', 'AP', 'GO', 'MT']\n",
    "quantidade = [ac.shape[0], ac.shape[0], go.shape[0], mt.shape[0]]\n",
    "explode = (0, 0, 0, 0)\n",
    "total = sum(quantidade)\n",
    "plt.pie(quantidade, explode=explode, labels=labels, autopct='%1.1f%%', shadow=True, startangle=90)\n",
    "\n",
    "plt.axis('equal') \n",
    "plt.show()"
   ]
  },
  {
   "cell_type": "markdown",
   "metadata": {},
   "source": [
    "### Gráfico de Sistema de Informações"
   ]
  },
  {
   "cell_type": "code",
   "execution_count": 55,
   "metadata": {},
   "outputs": [
    {
     "name": "stdout",
     "output_type": "stream",
     "text": [
      "Quantidade de alunos nos estados: AC = 2, AP = 2, GO = 101, MT = 0 .\n"
     ]
    },
    {
     "data": {
      "image/png": "[encoded data removed]",
      "text/plain": [
       "<Figure size 432x288 with 1 Axes>"
      ]
     },
     "metadata": {},
     "output_type": "display_data"
    }
   ],
   "source": [
    "ac = (dadosCurso['Uf'] == 'AC') & (dadosCurso['Curso'] == 'SISTEMAS DE INFORMACÃO')\n",
    "ac = dadosCurso[ac]\n",
    "ap = (dadosCurso['Uf'] == 'AP') & (dadosCurso['Curso'] == 'SISTEMAS DE INFORMACÃO')\n",
    "ap = dadosCurso[ap]\n",
    "go = (dadosCurso['Uf'] == 'GO') & (dadosCurso['Curso'] == 'SISTEMAS DE INFORMACÃO')\n",
    "go = dadosCurso[go]\n",
    "mt = (dadosCurso['Uf'] == 'MT') & (dadosCurso['Curso'] == 'SISTEMAS DE INFORMACÃO')\n",
    "mt = dadosCurso[mt]\n",
    "\n",
    "print('Quantidade de alunos nos estados: AC = %s, AP = %s, GO = %s, MT = %s .' % \n",
    "      (ac.shape[0], ap.shape[0], go.shape[0], mt.shape[0]))\n",
    "\n",
    "labels = ['AC', 'AP', 'GO', 'MT']\n",
    "quantidade = [ac.shape[0], ac.shape[0], go.shape[0], mt.shape[0]]\n",
    "explode = (0, 0, 0, 0)\n",
    "total = sum(quantidade)\n",
    "plt.pie(quantidade, explode=explode, labels=labels, autopct='%1.1f%%', shadow=True, startangle=90)\n",
    "\n",
    "plt.axis('equal') \n",
    "plt.show()"
   ]
  }
 ],
 "metadata": {
  "kernelspec": {
   "display_name": "Python 3",
   "language": "python",
   "name": "python3"
  },
  "language_info": {
   "codemirror_mode": {
    "name": "ipython",
    "version": 3
   },
   "file_extension": ".py",
   "mimetype": "text/x-python",
   "name": "python",
   "nbconvert_exporter": "python",
   "pygments_lexer": "ipython3",
   "version": "3.5.2"
  }
 },
 "nbformat": 4,
 "nbformat_minor": 2
}
